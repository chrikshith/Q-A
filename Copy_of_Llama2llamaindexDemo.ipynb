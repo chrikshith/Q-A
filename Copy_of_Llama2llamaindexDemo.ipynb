{
  "nbformat": 4,
  "nbformat_minor": 0,
  "metadata": {
    "colab": {
      "provenance": [],
      "gpuType": "T4"
    },
    "kernelspec": {
      "name": "python3",
      "display_name": "Python 3"
    },
    "language_info": {
      "name": "python"
    },
    "accelerator": "GPU"
  },
  "cells": [
    {
      "cell_type": "code",
      "execution_count": null,
      "metadata": {
        "colab": {
          "base_uri": "https://localhost:8080/"
        },
        "id": "q9efInp3Wlup",
        "outputId": "8cffec26-ec68-424a-cf99-e329d7d270f5"
      },
      "outputs": [
        {
          "output_type": "stream",
          "name": "stdout",
          "text": [
            "Requirement already satisfied: pypdf in /usr/local/lib/python3.10/dist-packages (3.15.0)\n",
            "Requirement already satisfied: python-dotenv in /usr/local/lib/python3.10/dist-packages (1.0.0)\n"
          ]
        }
      ],
      "source": [
        "!pip install pypdf\n",
        "!pip install python-dotenv"
      ]
    },
    {
      "cell_type": "code",
      "source": [
        "!pip install -q transformers einops accelerate langchain bitsandbytes"
      ],
      "metadata": {
        "id": "-wFP3ngwWwLo"
      },
      "execution_count": null,
      "outputs": []
    },
    {
      "cell_type": "code",
      "source": [
        "!pip install sentence_transformers"
      ],
      "metadata": {
        "colab": {
          "base_uri": "https://localhost:8080/"
        },
        "id": "KiRYz1k0c3B-",
        "outputId": "c7a58dde-927a-47f3-b636-8e5a72ad0e82"
      },
      "execution_count": null,
      "outputs": [
        {
          "output_type": "stream",
          "name": "stdout",
          "text": [
            "Requirement already satisfied: sentence_transformers in /usr/local/lib/python3.10/dist-packages (2.2.2)\n",
            "Requirement already satisfied: transformers<5.0.0,>=4.6.0 in /usr/local/lib/python3.10/dist-packages (from sentence_transformers) (4.31.0)\n",
            "Requirement already satisfied: tqdm in /usr/local/lib/python3.10/dist-packages (from sentence_transformers) (4.66.0)\n",
            "Requirement already satisfied: torch>=1.6.0 in /usr/local/lib/python3.10/dist-packages (from sentence_transformers) (2.0.1+cu118)\n",
            "Requirement already satisfied: torchvision in /usr/local/lib/python3.10/dist-packages (from sentence_transformers) (0.15.2+cu118)\n",
            "Requirement already satisfied: numpy in /usr/local/lib/python3.10/dist-packages (from sentence_transformers) (1.23.5)\n",
            "Requirement already satisfied: scikit-learn in /usr/local/lib/python3.10/dist-packages (from sentence_transformers) (1.2.2)\n",
            "Requirement already satisfied: scipy in /usr/local/lib/python3.10/dist-packages (from sentence_transformers) (1.10.1)\n",
            "Requirement already satisfied: nltk in /usr/local/lib/python3.10/dist-packages (from sentence_transformers) (3.8.1)\n",
            "Requirement already satisfied: sentencepiece in /usr/local/lib/python3.10/dist-packages (from sentence_transformers) (0.1.99)\n",
            "Requirement already satisfied: huggingface-hub>=0.4.0 in /usr/local/lib/python3.10/dist-packages (from sentence_transformers) (0.16.4)\n",
            "Requirement already satisfied: filelock in /usr/local/lib/python3.10/dist-packages (from huggingface-hub>=0.4.0->sentence_transformers) (3.12.2)\n",
            "Requirement already satisfied: fsspec in /usr/local/lib/python3.10/dist-packages (from huggingface-hub>=0.4.0->sentence_transformers) (2023.6.0)\n",
            "Requirement already satisfied: requests in /usr/local/lib/python3.10/dist-packages (from huggingface-hub>=0.4.0->sentence_transformers) (2.31.0)\n",
            "Requirement already satisfied: pyyaml>=5.1 in /usr/local/lib/python3.10/dist-packages (from huggingface-hub>=0.4.0->sentence_transformers) (6.0.1)\n",
            "Requirement already satisfied: typing-extensions>=3.7.4.3 in /usr/local/lib/python3.10/dist-packages (from huggingface-hub>=0.4.0->sentence_transformers) (4.7.1)\n",
            "Requirement already satisfied: packaging>=20.9 in /usr/local/lib/python3.10/dist-packages (from huggingface-hub>=0.4.0->sentence_transformers) (23.1)\n",
            "Requirement already satisfied: sympy in /usr/local/lib/python3.10/dist-packages (from torch>=1.6.0->sentence_transformers) (1.12)\n",
            "Requirement already satisfied: networkx in /usr/local/lib/python3.10/dist-packages (from torch>=1.6.0->sentence_transformers) (3.1)\n",
            "Requirement already satisfied: jinja2 in /usr/local/lib/python3.10/dist-packages (from torch>=1.6.0->sentence_transformers) (3.1.2)\n",
            "Requirement already satisfied: triton==2.0.0 in /usr/local/lib/python3.10/dist-packages (from torch>=1.6.0->sentence_transformers) (2.0.0)\n",
            "Requirement already satisfied: cmake in /usr/local/lib/python3.10/dist-packages (from triton==2.0.0->torch>=1.6.0->sentence_transformers) (3.27.1)\n",
            "Requirement already satisfied: lit in /usr/local/lib/python3.10/dist-packages (from triton==2.0.0->torch>=1.6.0->sentence_transformers) (16.0.6)\n",
            "Requirement already satisfied: regex!=2019.12.17 in /usr/local/lib/python3.10/dist-packages (from transformers<5.0.0,>=4.6.0->sentence_transformers) (2023.6.3)\n",
            "Requirement already satisfied: tokenizers!=0.11.3,<0.14,>=0.11.1 in /usr/local/lib/python3.10/dist-packages (from transformers<5.0.0,>=4.6.0->sentence_transformers) (0.13.3)\n",
            "Requirement already satisfied: safetensors>=0.3.1 in /usr/local/lib/python3.10/dist-packages (from transformers<5.0.0,>=4.6.0->sentence_transformers) (0.3.2)\n",
            "Requirement already satisfied: click in /usr/local/lib/python3.10/dist-packages (from nltk->sentence_transformers) (8.1.6)\n",
            "Requirement already satisfied: joblib in /usr/local/lib/python3.10/dist-packages (from nltk->sentence_transformers) (1.3.2)\n",
            "Requirement already satisfied: threadpoolctl>=2.0.0 in /usr/local/lib/python3.10/dist-packages (from scikit-learn->sentence_transformers) (3.2.0)\n",
            "Requirement already satisfied: pillow!=8.3.*,>=5.3.0 in /usr/local/lib/python3.10/dist-packages (from torchvision->sentence_transformers) (9.4.0)\n",
            "Requirement already satisfied: MarkupSafe>=2.0 in /usr/local/lib/python3.10/dist-packages (from jinja2->torch>=1.6.0->sentence_transformers) (2.1.3)\n",
            "Requirement already satisfied: charset-normalizer<4,>=2 in /usr/local/lib/python3.10/dist-packages (from requests->huggingface-hub>=0.4.0->sentence_transformers) (3.2.0)\n",
            "Requirement already satisfied: idna<4,>=2.5 in /usr/local/lib/python3.10/dist-packages (from requests->huggingface-hub>=0.4.0->sentence_transformers) (3.4)\n",
            "Requirement already satisfied: urllib3<3,>=1.21.1 in /usr/local/lib/python3.10/dist-packages (from requests->huggingface-hub>=0.4.0->sentence_transformers) (1.26.16)\n",
            "Requirement already satisfied: certifi>=2017.4.17 in /usr/local/lib/python3.10/dist-packages (from requests->huggingface-hub>=0.4.0->sentence_transformers) (2023.7.22)\n",
            "Requirement already satisfied: mpmath>=0.19 in /usr/local/lib/python3.10/dist-packages (from sympy->torch>=1.6.0->sentence_transformers) (1.3.0)\n"
          ]
        }
      ]
    },
    {
      "cell_type": "code",
      "source": [
        "!pip install llama-index\n"
      ],
      "metadata": {
        "colab": {
          "base_uri": "https://localhost:8080/"
        },
        "id": "OxTtFeeUW5WJ",
        "outputId": "446b11cf-b1b3-4d3f-f380-d869976d965e"
      },
      "execution_count": null,
      "outputs": [
        {
          "output_type": "stream",
          "name": "stdout",
          "text": [
            "Requirement already satisfied: llama-index in /usr/local/lib/python3.10/dist-packages (0.8.0)\n",
            "Requirement already satisfied: tiktoken in /usr/local/lib/python3.10/dist-packages (from llama-index) (0.4.0)\n",
            "Requirement already satisfied: dataclasses-json in /usr/local/lib/python3.10/dist-packages (from llama-index) (0.5.14)\n",
            "Requirement already satisfied: langchain>=0.0.262 in /usr/local/lib/python3.10/dist-packages (from llama-index) (0.0.263)\n",
            "Requirement already satisfied: sqlalchemy>=2.0.15 in /usr/local/lib/python3.10/dist-packages (from llama-index) (2.0.19)\n",
            "Requirement already satisfied: numpy in /usr/local/lib/python3.10/dist-packages (from llama-index) (1.23.5)\n",
            "Requirement already satisfied: tenacity<9.0.0,>=8.2.0 in /usr/local/lib/python3.10/dist-packages (from llama-index) (8.2.2)\n",
            "Requirement already satisfied: openai>=0.26.4 in /usr/local/lib/python3.10/dist-packages (from llama-index) (0.27.8)\n",
            "Requirement already satisfied: pandas in /usr/local/lib/python3.10/dist-packages (from llama-index) (1.5.3)\n",
            "Requirement already satisfied: urllib3<2 in /usr/local/lib/python3.10/dist-packages (from llama-index) (1.26.16)\n",
            "Requirement already satisfied: fsspec>=2023.5.0 in /usr/local/lib/python3.10/dist-packages (from llama-index) (2023.6.0)\n",
            "Requirement already satisfied: typing-inspect>=0.8.0 in /usr/local/lib/python3.10/dist-packages (from llama-index) (0.9.0)\n",
            "Requirement already satisfied: typing-extensions>=4.5.0 in /usr/local/lib/python3.10/dist-packages (from llama-index) (4.7.1)\n",
            "Requirement already satisfied: beautifulsoup4 in /usr/local/lib/python3.10/dist-packages (from llama-index) (4.11.2)\n",
            "Requirement already satisfied: nest-asyncio in /usr/local/lib/python3.10/dist-packages (from llama-index) (1.5.7)\n",
            "Requirement already satisfied: PyYAML>=5.3 in /usr/local/lib/python3.10/dist-packages (from langchain>=0.0.262->llama-index) (6.0.1)\n",
            "Requirement already satisfied: aiohttp<4.0.0,>=3.8.3 in /usr/local/lib/python3.10/dist-packages (from langchain>=0.0.262->llama-index) (3.8.5)\n",
            "Requirement already satisfied: async-timeout<5.0.0,>=4.0.0 in /usr/local/lib/python3.10/dist-packages (from langchain>=0.0.262->llama-index) (4.0.2)\n",
            "Requirement already satisfied: langsmith<0.1.0,>=0.0.11 in /usr/local/lib/python3.10/dist-packages (from langchain>=0.0.262->llama-index) (0.0.22)\n",
            "Requirement already satisfied: numexpr<3.0.0,>=2.8.4 in /usr/local/lib/python3.10/dist-packages (from langchain>=0.0.262->llama-index) (2.8.5)\n",
            "Requirement already satisfied: openapi-schema-pydantic<2.0,>=1.2 in /usr/local/lib/python3.10/dist-packages (from langchain>=0.0.262->llama-index) (1.2.4)\n",
            "Requirement already satisfied: pydantic<2,>=1 in /usr/local/lib/python3.10/dist-packages (from langchain>=0.0.262->llama-index) (1.10.12)\n",
            "Requirement already satisfied: requests<3,>=2 in /usr/local/lib/python3.10/dist-packages (from langchain>=0.0.262->llama-index) (2.31.0)\n",
            "Requirement already satisfied: marshmallow<4.0.0,>=3.18.0 in /usr/local/lib/python3.10/dist-packages (from dataclasses-json->llama-index) (3.20.1)\n",
            "Requirement already satisfied: tqdm in /usr/local/lib/python3.10/dist-packages (from openai>=0.26.4->llama-index) (4.66.0)\n",
            "Requirement already satisfied: greenlet!=0.4.17 in /usr/local/lib/python3.10/dist-packages (from sqlalchemy>=2.0.15->llama-index) (2.0.2)\n",
            "Requirement already satisfied: mypy-extensions>=0.3.0 in /usr/local/lib/python3.10/dist-packages (from typing-inspect>=0.8.0->llama-index) (1.0.0)\n",
            "Requirement already satisfied: soupsieve>1.2 in /usr/local/lib/python3.10/dist-packages (from beautifulsoup4->llama-index) (2.4.1)\n",
            "Requirement already satisfied: python-dateutil>=2.8.1 in /usr/local/lib/python3.10/dist-packages (from pandas->llama-index) (2.8.2)\n",
            "Requirement already satisfied: pytz>=2020.1 in /usr/local/lib/python3.10/dist-packages (from pandas->llama-index) (2023.3)\n",
            "Requirement already satisfied: regex>=2022.1.18 in /usr/local/lib/python3.10/dist-packages (from tiktoken->llama-index) (2023.6.3)\n",
            "Requirement already satisfied: attrs>=17.3.0 in /usr/local/lib/python3.10/dist-packages (from aiohttp<4.0.0,>=3.8.3->langchain>=0.0.262->llama-index) (23.1.0)\n",
            "Requirement already satisfied: charset-normalizer<4.0,>=2.0 in /usr/local/lib/python3.10/dist-packages (from aiohttp<4.0.0,>=3.8.3->langchain>=0.0.262->llama-index) (3.2.0)\n",
            "Requirement already satisfied: multidict<7.0,>=4.5 in /usr/local/lib/python3.10/dist-packages (from aiohttp<4.0.0,>=3.8.3->langchain>=0.0.262->llama-index) (6.0.4)\n",
            "Requirement already satisfied: yarl<2.0,>=1.0 in /usr/local/lib/python3.10/dist-packages (from aiohttp<4.0.0,>=3.8.3->langchain>=0.0.262->llama-index) (1.9.2)\n",
            "Requirement already satisfied: frozenlist>=1.1.1 in /usr/local/lib/python3.10/dist-packages (from aiohttp<4.0.0,>=3.8.3->langchain>=0.0.262->llama-index) (1.4.0)\n",
            "Requirement already satisfied: aiosignal>=1.1.2 in /usr/local/lib/python3.10/dist-packages (from aiohttp<4.0.0,>=3.8.3->langchain>=0.0.262->llama-index) (1.3.1)\n",
            "Requirement already satisfied: packaging>=17.0 in /usr/local/lib/python3.10/dist-packages (from marshmallow<4.0.0,>=3.18.0->dataclasses-json->llama-index) (23.1)\n",
            "Requirement already satisfied: six>=1.5 in /usr/local/lib/python3.10/dist-packages (from python-dateutil>=2.8.1->pandas->llama-index) (1.16.0)\n",
            "Requirement already satisfied: idna<4,>=2.5 in /usr/local/lib/python3.10/dist-packages (from requests<3,>=2->langchain>=0.0.262->llama-index) (3.4)\n",
            "Requirement already satisfied: certifi>=2017.4.17 in /usr/local/lib/python3.10/dist-packages (from requests<3,>=2->langchain>=0.0.262->llama-index) (2023.7.22)\n"
          ]
        }
      ]
    },
    {
      "cell_type": "code",
      "source": [
        "import logging\n",
        "import sys\n",
        "\n",
        "logging.basicConfig(stream=sys.stdout, level=logging.INFO)\n",
        "logging.getLogger().addHandler(logging.StreamHandler(stream=sys.stdout))\n",
        "\n",
        "from llama_index import VectorStoreIndex, SimpleDirectoryReader, ServiceContext\n",
        "from llama_index.llms import HuggingFaceLLM"
      ],
      "metadata": {
        "id": "lkHavErBXChp"
      },
      "execution_count": null,
      "outputs": []
    },
    {
      "cell_type": "code",
      "source": [
        "documents = SimpleDirectoryReader(\"/content/sample_data/Untitled Folder\").load_data()"
      ],
      "metadata": {
        "id": "COxp34FqXMih"
      },
      "execution_count": null,
      "outputs": []
    },
    {
      "cell_type": "code",
      "source": [
        "documents"
      ],
      "metadata": {
        "colab": {
          "base_uri": "https://localhost:8080/"
        },
        "id": "oiXdJJvluBz6",
        "outputId": "c6c4872c-7b68-4342-9515-fed47516febb"
      },
      "execution_count": null,
      "outputs": [
        {
          "output_type": "execute_result",
          "data": {
            "text/plain": [
              "[Document(id_='24465339-ea09-4362-a95e-6c8203073f64', embedding=None, metadata={'page_label': '1', 'file_name': 'Axis_Bank.pdf'}, excluded_embed_metadata_keys=[], excluded_llm_metadata_keys=[], relationships={}, hash='814a7890c01e3f589227c25bc91d2b6b99c14e07926af65bda687b1fa35a75d4', text='AXIS\\nBANK\\nESG\\n1\\nENVIRONMENT, \\nSOCIAL\\n& \\nGOVERNANCE\\n(ESG) \\nPOLICY\\nAxis\\nBank\\nis\\nIndia’s\\nthird\\nlargest\\nprivate\\nsector\\nbank\\nthat\\noffers\\na \\nspectrum\\nof\\nfinancial\\nservices\\n-\\nproject\\nand\\nbid\\nadvisory\\nservices, \\nproject\\nlending,\\ndebt\\nsyndication,\\nproject\\nstructuring\\nand\\ndue \\ndiligence,\\nsecuritisation\\nand\\nstructured\\nfinance\\n-\\nto\\ncustomer \\nsegments\\ncovering\\nLarge\\nand\\nMid-Corporates,\\nMSME,\\nAgriculture \\nand\\nRetail\\nBusinesses.\\nAs\\none\\nof\\nIndia’s\\nlargest\\nlenders\\nin\\nkey \\ngrowth\\nsectors\\nsuch\\nas\\ninfrastructure,\\nmetals\\n&\\nmining,\\npower \\ngeneration,\\nreal\\nestate\\nand\\nmanufacturing,\\nwe\\nare\\ncommitted\\nto \\nensuring\\nthat\\nour\\noperations\\ndemonstrate\\nour\\norganization’s \\nhighest\\ncommitment\\nto\\napplicable\\nnational\\nlaws\\nand\\nrelevant \\ninternational\\nstandards\\non\\nenvironmental\\nand\\nsocial\\nsustainability. \\nBy\\nadopting\\nthe\\nEnvironment,\\nSocial\\n&\\nGovernance\\n(ESG)\\nPolicy1 \\n,\\nwe\\nfurther\\ndemonstrate\\nour\\nresolve\\nto\\ndrive\\nour\\ncountry’s \\neconomic\\ngrowth\\nby\\nbeing\\nproviders\\nof\\nresponsible,\\nsustainable \\nfinance.\\nWe\\nalso\\nintend\\nto\\npartner\\nwith\\nour\\nclients\\nto\\nachieve \\ncompliance\\nto\\nthe\\nESG\\nPolicy\\nand\\nto\\ninfluence\\nother\\nbanks\\nand \\nfinancial\\ninstitutions\\nin\\nadopting\\nprinciples\\nof\\nsustainable\\nfinance.\\n2\\nSCOPE\\nOF\\nTHE\\nESG \\nPOLICY\\nESG\\nPolicy\\nis\\napplicable,\\nsubject\\nto\\ncertain\\ninternal \\ncriteria/thresholds,\\nto\\nproject\\nloans/corporate\\nloans/lines\\nof\\ncredit \\n(including\\nworking\\ncapital\\nterm\\nloans);\\nBridge\\nloans\\nprovided\\nby \\nAxis\\nBank\\npending\\nfinal\\nsanction\\nof\\nthe\\nproject\\nloan\\nby\\nAxis\\nBank; \\nOverseas\\nfunding,\\nConsortium\\n/\\nmultiple\\nbanking;\\nSyndicated\\nby \\nother\\nbanks;\\nRefinance\\ntransactions.\\nAxis\\nBank\\nrecognises\\nthat \\ninternational\\nrisk\\nmanagement\\nframeworks,\\nadopted\\nby\\nfinancial \\ninstitutions,\\nhave\\npromoted\\nconvergence\\naround\\ncommon \\nenvironmental\\nand\\nsocial\\nstandards\\nfor\\nlending\\nand\\nproject \\nfinance.\\nWe\\nhave\\nthus\\ndeveloped\\nthe\\nESG\\nPolicy\\nin\\ncognizance\\nof \\nthe\\nfollowing\\nStandards\\nfor\\nEnvironment\\n&\\nSocial\\nRisk \\nAssessment\\nof\\nLending\\nPortfolio-\\nApplicable\\nIndian\\nnational,\\nstate \\nand\\nlocal\\nregulatory\\nrequirements;\\nThe\\nIFC\\nPerformance \\nStandards\\n(PS1\\nto\\nPS8)\\nFramework\\n2012\\nfor\\nEnvironmental\\nand \\nSocial\\nSustainability;\\nThe\\nWorld\\nBank\\nGroup\\nGeneral \\nEnvironment,\\nHealth\\n&\\nSafety\\n(EHS)\\nGuidelines\\nand\\nSector \\nSpecific\\nGuidelines;\\nRelevant\\nmultilateral\\nenvironmental,\\nsocial, \\nlabor\\nand\\nbiodiversity\\nconventions\\nratified\\nby\\nIndia;\\nNational \\nVoluntary\\nGuidelines,\\nMinistry\\nof\\nCorporate\\nAffairs,\\n12th\\nJuly\\n2011; \\nand\\nG4\\nSector\\nDisclosure\\nfor\\nFinancial\\nServices.\\n3\\nOBJECTIVE\\nOF\\nTHE \\nESG\\nPOLICY\\nAxis\\nBank\\nhas\\ndeveloped\\nand\\nadopted\\nthe\\nESG\\nPolicy\\nwith\\nthe \\naim\\nto:\\nMainstream\\nthe\\ncredit\\ncase\\nfor\\nintegrating\\nenvironmental \\nand\\nsocial\\nrisks\\ninto\\nits\\ninternal\\nrisk\\nmanagement\\nframeworks; \\nProvide\\ntools\\nfor\\nassessing\\nenvironmental\\nand\\nsocial\\nrisks\\nof \\nproject\\nfinance;\\nProvide\\nguidance\\non\\napplication\\non\\ninternational \\nenvironmental\\nand\\nsocial\\nstandards\\nwithin\\nIndian\\nbusinesses \\nenvironment;\\nTrigger\\nimplications\\nof\\nincidents\\nthat\\ncan\\nlead\\nto \\nnegative\\nenvironmental\\nand\\nsocial\\noutcomes\\nwhich\\ncan\\nresult\\ninto \\nbusiness\\ncontinuity\\nrisk,\\nreputation\\nrisk\\nand\\na\\ndirect\\nfinancial \\nimpact;\\nand\\nIdentify\\nopportunities\\nto\\nenable\\nus\\nto\\npromote', start_char_idx=None, end_char_idx=None, text_template='{metadata_str}\\n\\n{content}', metadata_template='{key}: {value}', metadata_seperator='\\n'),\n",
              " Document(id_='ab625217-edf0-43c0-ab25-5ba695caac0d', embedding=None, metadata={'page_label': '2', 'file_name': 'Axis_Bank.pdf'}, excluded_embed_metadata_keys=[], excluded_llm_metadata_keys=[], relationships={}, hash='b9a0d4fa77a0f41b3aae923b5fa93c85db34e87192d15309bba0b6f932ccd5c7', text='environmental\\nsustainability\\nand\\nequitable\\ngrowth\\nthrough\\nour \\nproducts\\nand\\nservices\\n4\\nINSTITUTIONAL \\nSTRUCTURE\\nOF \\nENVIRONMENT\\n& \\nSOCIAL\\nMANAGEMENT \\nGROUP\\n(ESMG)\\nAxis\\nBank\\nhas\\nestablished\\na\\nseparate\\ndivision\\n–\\nthe\\nEnvironment \\nand\\nSocial\\nManagement\\nGroup\\n–\\nto\\noversee\\nand\\nmanage\\nthe \\nenvironmental,\\nsocial\\nand\\nhealth\\n&\\nsafety\\nrisks\\nwithin\\nthe\\nCRG’s \\nlending\\nportfolio\\nand,\\nby\\ndoing\\nso,\\nhelp\\nimplement\\nthe \\nEnvironment,\\nSocial\\n&\\nGovernance\\n(ESG)\\nPolicy.\\nA\\ndetailed\\nCredit \\nAppraisal\\nProcess\\nhas\\nbeen\\ndefined\\nin\\nthe\\npolicy.\\nThe\\nstructure, \\nresponsibilities,\\nresources\\nallocated,\\ntraining\\nand\\ncapacity\\nbuilding \\nof\\nthe\\nESMG\\nand\\nbudgets\\nallocated\\nto\\nensure\\nthat\\nthe\\nESMG\\nis \\nable\\nto\\nperform\\nits\\nfunctions\\neffectively.\\n5\\nPROCESS\\nFLOW \\nDIAGRAM\\nFOR \\nENVIRONMENT\\n& \\nSOCIAL\\nDUE \\nDILIGENCE\\n(ESDD)\\nOF \\nLENDING\\nPORTFOLIO \\nAS\\nPER\\nESG\\nPOLICY\\nRM\\nshall\\ncheck\\nthe\\n“Exclusion\\nList”\\nbefore\\napproaching\\nthe\\nclient \\nto\\nensure\\nclient\\nis\\nnot\\nengaged\\nin\\nany\\nbusiness\\nwhich\\nis\\nlisted\\nin \\nexclusion\\nlist\\nPreliminary\\nScreening\\nthe\\nproject\\nfor\\nthe \\nCategorization\\n(A,\\nB+,\\nB,\\nC\\nor\\nFI)\\nand\\nkey\\nissues\\nto\\nscope\\nthe \\napplicable\\nenvironment\\nand\\nsocial\\nrequirements\\nApplication\\nof \\nTool\\n-1\\nScreening\\nof\\nProject\\nrelated\\nrisks\\nusing\\nscreening \\nchecklist\\nto\\nthe\\nextent\\npossible\\nbased\\non\\nthe\\ninformation\\nreceived \\nfrom\\nthe\\nclient\\nE&S\\nTeam\\nalong\\nwith\\ncredit\\nteam\\nwill\\ndecide\\nthe \\nlevel\\nof\\nE&S\\nassessment\\nrequired\\nthe\\nproject\\nbased\\non\\nthe \\nCategorization.\\nESDD\\nReport\\npreparation\\non\\nthe\\nbasis\\nof\\nSite \\nVisit\\nand\\nproject\\ninformation\\nreceived\\nfrom\\nclient\\nSubmission\\nof \\nkey\\nmitigation\\nmeasure\\nin\\nplace\\nto\\nreduce\\nrisk\\nand\\nprovide\\ninput \\nfor\\nfinalization\\nof\\nappraisal\\nnote\\nof\\nrequired\\nWork\\nclosely\\nwith \\nBusiness\\nteam\\non\\ncomments/clarifications\\nand\\nimplications\\nof \\nESDD\\nfindings\\nESMG\\nto\\nframe\\nappropriate\\nE&S\\nrelated \\ncovenants\\nin\\nthe\\nfinal\\nESDD\\nNote\\nfor\\nsanction\\n6\\nCat\\nA\\nThe\\nproject\\n/\\nsub-projects\\n/\\ninvestment\\nis\\nlikely\\nto\\nhave\\nsignificant \\nadverse\\nenvironmental\\nand/or\\nsocial\\nimpacts\\nthat\\nare\\nsensitive, \\ndiverse\\nor\\nunprecedented\\n7\\nCat\\nB+\\nThe\\nproject\\n/\\nsub-projects\\n/\\ninvestment\\nwith\\npotential\\nadverse \\nsocial\\nor\\nenvironmental\\nimpacts\\nthat\\nare\\ngenerally\\nbeyond\\nthe\\nsite \\nboundaries,\\nlargely\\nreversible\\nand\\ncan\\nbe\\naddressed\\nthrough \\nrelevant\\nmitigation\\nmeasures\\n8\\nCat\\nB\\nThe\\nproject\\n/\\nsub-projects\\n/\\ninvestment\\nwith\\npotential\\nlimited \\nadverse\\nsocial\\nor\\nenvironmental\\nimpacts\\nthat\\nare\\nfew\\nin\\nnumber, \\ngenerally\\nsite-specific,\\nlargely\\nreversible\\nand\\nreadily\\naddressed \\nthrough\\nmitigation\\nmeasures\\n9\\nCat\\nC\\nThe\\nproject\\n/\\nsub-projects\\n/\\ninvestment\\nis\\nlikely\\nto\\nhave\\nminimal\\nor \\nno\\nadverse\\nenvironmental\\nimpacts.\\nNo\\nfurther\\nenvironmental \\nassessment\\nis\\nrequired\\n10\\nCat\\nFI\\nInvestments\\nin\\nfinancial\\nintermediaries\\nthose\\nthemselves\\nhave \\nminimal\\nadverse\\nsocial\\nand/or\\nenvironmental\\nimpacts\\nbut\\nmay \\nfinance\\nsub\\nprojects\\nwith\\npotential\\nimpacts.\\nThis\\ncategory\\nis\\nfurther', start_char_idx=None, end_char_idx=None, text_template='{metadata_str}\\n\\n{content}', metadata_template='{key}: {value}', metadata_seperator='\\n'),\n",
              " Document(id_='47140300-28d0-45be-b113-59c13043e380', embedding=None, metadata={'page_label': '3', 'file_name': 'Axis_Bank.pdf'}, excluded_embed_metadata_keys=[], excluded_llm_metadata_keys=[], relationships={}, hash='af567631899d7358381ae4899ce21092e1444303621b7bec2382795c56d0ec8c', text='subdivided\\ninto\\nFI-1,\\nFI-2,\\nFI-3\\non\\nthe\\nbasis\\nof\\nthe\\nfinancial \\nexposure\\nto\\nbusiness\\nactivities\\n11\\nPROJECT\\nMONITORING \\nDURING\\nTENOR\\nOF \\nTHE\\nLOAN\\nProject\\nCategory\\nMonitoring\\nDocuments\\nResponsibility\\nFrequency \\nCategory\\nA,\\nB+\\n&\\nB\\nESDD\\nReport;\\nE&S\\nT&Cs;\\nESMS\\n(if \\napplicable);\\nAll\\nstudies\\nrequired\\nunder\\nthe\\nE&S\\nT&Cs\\nInternal\\n- \\nESMG\\nRegular\\nmonitoring\\nof\\nE&S\\nT&Cs\\nas\\nper\\nthe\\nESDD \\nSanction\\nT&Cs\\nCategory\\nC\\n&\\nFI\\nKey\\nrecommedations\\nOnly \\nInternal\\n-\\nESMG\\nNot\\nRequired\\n12\\nCOMMITMENTS\\nAND \\nPRINCIPLES\\nAxis\\nBank\\nis\\ncommitted\\nto\\nassess\\nand\\nmitigate\\nenvironmental\\nand \\nsocial\\nrisks\\nin\\nits\\ncorporate\\nlending\\nportfolio.\\nIn\\nits\\nendeavour\\nto \\nimplement\\nenvironmental\\nand\\nsocial\\nstandards,\\nit\\nwill\\nbe\\nensured \\nthat\\nthis\\ndoes\\nnot\\nencumber\\nthe\\nBank’s\\nability\\nto\\nfacilitate\\nIndian \\ncompanies\\nas\\nthey\\ncompete\\nin\\ndomestic\\nand\\ninternational \\nmarkets.\\nAxis\\nBank\\nendeavours\\nto\\nadopt\\nthe\\nfollowing\\nprinciples: \\nThe\\nBank’s\\nlending\\nactivities\\nwill\\ncomply\\nwith\\napplicable\\nIndian \\nlaws\\nand\\nregulations\\nalong\\nwith\\nany\\nmultilateral\\nenvironmental, \\nsocial\\nand\\nbiodiversity\\nagreements\\nand/or\\nconventions\\nratified\\nby \\nIndia;\\nThe\\nBank\\nwill\\nensure\\nthat\\nlending\\nis\\nprovided\\nto\\nbusinesses \\nthat\\nhave\\nrobust\\nenvironmental\\nand\\nsocial\\nmanagement\\nsystems \\nthat\\nenable\\nearly\\nidentification\\nof\\nrisks\\nand\\nimpacts\\nand\\ntheir \\neffective\\nmitigation;\\nThrough\\nits\\nlending\\nactivities,\\nAxis\\nBank\\nLtd. \\nwill\\nseek\\nto\\nuphold\\nthe\\nprotection\\nof\\nhuman\\nrights\\nand\\nassure \\nfairness,\\ninclusion\\nand\\ndevelopment\\nopportunities\\nfor\\nall\\nour \\nstakeholders;\\nThe\\nBank\\nwill\\nimplement\\nscreening,\\nappraisal\\nand \\nmonitoring\\nprocedures\\nto\\nsafeguard\\nthe\\ncommitments\\nunder\\nour \\n“Sustainable\\nLending\\nPolicy”;\\nThe\\nBank\\nwill\\ndisclose\\nrelevant \\ninformation\\nto\\npromote\\ntransparency\\nand\\naccountability\\nwhile \\nrespecting\\nbusiness\\nconfidentiality.\\n13\\nEXCLUSION\\nLIST\\nAxis\\nBank\\ncommits\\nto\\nensure\\nthat\\nfunds\\nwill\\nnot\\nbe\\nused\\nto\\nfinance \\nthe\\nfollowing\\ntype\\nof\\nactivities\\nand/or\\nend\\nuse\\nfor\\nall\\nproject\\nand \\ncorporate\\nloans\\nunder\\nthe\\nscope\\nof\\nthe\\nESG\\nPolicy:\\nProduction \\nand\\ndistribution\\nof\\npornographic\\nmaterial;\\nManufacture\\nand \\nmarketing\\nof\\nbanned\\ndrugs;\\nDealing\\nin\\nnarcotics;\\nStand-alone \\nmanufacture\\nand\\nmarketing\\nof\\ngutkha\\nand\\ntobacco;\\nDealing\\nin \\nbanned\\nwildlife\\nrelated\\nproducts;\\nPolluting\\nindustries\\nunless\\nthe \\nunits\\nhave\\nclearance\\nfrom\\npollution\\ncontrol\\nauthorities\\nand\\nhave \\ninstalled\\neffluent\\ntreatment\\nplants;\\nSetting\\nup\\nof\\nnew\\nunits \\nconsuming/producing\\nOzone\\nDepleting\\nSubstances\\n(ODS)\\nsuch \\nas\\nchlorofluoro\\ncarbon\\n(CFC),\\nHalons\\nand\\nunits\\nmanufacturing \\naerosol\\nproducts\\nusing\\nCFCs;\\nStandalone\\nCasino,\\nand\\nGambling\\n/ \\nBetting\\nin\\nany\\nform;\\nProduction\\nor\\ntrade\\nin\\nany\\nproduct\\nor\\nactivity \\ndeemed\\nillegal\\nunder\\nhost\\ncountry\\nlaws\\nor\\nregulations\\nor \\ninternational\\nconventions\\nand\\nagreements,\\nor\\nsubject\\nto \\ninternational\\nbans;\\nProduction\\nor\\ntrade\\nin\\nweapons\\nand \\nammunitions\\n(2)\\n;\\nProduction\\nor\\ntrade\\nin\\nalcoholic\\nbeverages \\n(excluding\\nbeer\\nand\\nwine);\\nProduction\\nor\\ntrade\\nin\\nradioactive \\nmaterials;\\n(3)\\nProduction\\nor\\ntrade\\nin\\nunbonded\\nasbestos\\nfibres\\n(4);', start_char_idx=None, end_char_idx=None, text_template='{metadata_str}\\n\\n{content}', metadata_template='{key}: {value}', metadata_seperator='\\n'),\n",
              " Document(id_='e0cd5bb7-fc35-498d-b4f3-cdb80a7e2c7f', embedding=None, metadata={'page_label': '4', 'file_name': 'Axis_Bank.pdf'}, excluded_embed_metadata_keys=[], excluded_llm_metadata_keys=[], relationships={}, hash='9d7c8ee893d1f132381467f3bd510019eb0820d2ed5cf3df80eb5e7c0d7db664', text='Drift\\nnet\\nfishing\\nin\\nthe\\nmarine\\nenvironment\\nusing\\nnets\\nin\\nexcess\\nof \\n2.5\\nkm\\nin\\nlength;\\nand\\nProduction\\nor\\ntrade\\nof\\nwildlife\\nor\\nproducts \\nregulated\\nunder\\nCITES.\\n(5)\\nThe\\nBank\\nhas\\nadopted\\na\\npolicy\\nnot\\nto \\nfinance/refinance\\nfirms\\nengaged\\nin\\nthe\\nabove\\nmentioned\\nproducts.', start_char_idx=None, end_char_idx=None, text_template='{metadata_str}\\n\\n{content}', metadata_template='{key}: {value}', metadata_seperator='\\n'),\n",
              " Document(id_='1dfd7f05-f3e4-4365-b39f-a3cf19c6ea3f', embedding=None, metadata={'page_label': '1', 'file_name': 'ESG.pdf'}, excluded_embed_metadata_keys=[], excluded_llm_metadata_keys=[], relationships={}, hash='b12e62fd0bfcab6d77b852663c88df12b6ce6db98708d60a99b2312b83aa78c3', text='10\\nESG\\nQuestions\\nCompanies\\nNeed\\nto \\nAnswer\\nCorporations\\nhave\\nbeen\\ngrappling\\nwith\\nthe\\nBusiness\\nRoundtable’s\\nall-important\\n2019\\nstatement\\nof\\nintent\\n—\\nto\\nmove\\nfrom\\nfinancial\\nshareholder\\nprimacy\\nto\\nbroader\\nstakeholder\\ncapitalism\\n—\\nand\\nhow\\nto\\ntranslate\\nthese\\ngoals\\ninto\\npractical,\\nmeasurable,\\nand\\ntrackable\\nESG\\nefforts\\nin\\ntheir\\nbusinesses.\\nAccording\\nto\\nBloomberg\\nIntelligence\\n,\\nGlobal\\nESG\\nassets\\ncould\\nexceed\\n$53\\ntrillion\\nby\\n2025.\\nBased\\non\\nmore\\nthan\\na\\ndecade\\nserving\\nin\\ncorporate\\nboard\\nrooms,\\nhere\\nare\\n10\\nquestions\\nI\\nbelieve\\nevery\\ncompany\\nshould\\naddress\\nas\\nthey\\nembed\\nan\\nESG\\nstrategy.\\nIf\\ncorporations\\nfail\\nto\\naddress\\nthese\\nquestions,\\nthere\\nis\\na\\nrisk\\nthat\\nthey\\nwill\\nbe\\novertaken\\nby\\nrivals\\nand,\\nat\\nthe\\nextreme,\\ncould\\neven\\ncease\\nto\\nexist.\\n1\\nIs\\nESG\\nundermining\\nyour \\ncompany’s \\ncompetitiveness?\\nFears\\nthat\\nexcessive\\nemphasis\\non\\nESG\\ncould\\nharm\\na \\ncompany’s\\ncompetitiveness\\nare\\nnot\\nmisplaced.\\nIn\\nfact,\\nthere \\nare\\nvalid\\nquestions\\nabout\\nwhether,\\nif\\na\\ncompany\\nplaces\\ntoo \\nmuch\\nenergy\\ninto\\nESG\\nobjectives,\\nit\\nrisks\\nlosing\\nits\\nfocus\\non \\ngrowth,\\nmarket\\nshare,\\nand\\nprofits.\\nIn\\nMarch\\n2021,\\nfor \\nexample,\\nEmmanuel\\nFaber,\\nDanone’s\\nchief\\nexecutive\\nand \\nchairman,\\nstepped\\ndown\\namid\\npressure\\nfrom\\nactivist \\ninvestors,\\none\\nof\\nwhich\\nsuggested\\nthat\\nFaber\\n“did\\nnot \\nmanage\\nto\\nstrike\\nthe\\nright\\nbalance\\nbetween\\nshareholder \\nvalue\\ncreation\\nand\\nsustainability.”\\nMore\\ngenerally,\\nif\\na \\ncompany\\nfocuses\\ntoo\\nmuch\\non\\nESG,\\nit\\ncould\\nstruggle\\nto \\ncompete\\nagainst\\ncompanies\\nfrom\\ncountries\\nwith\\nless \\nrigorous\\nstandards,\\nsuch\\nas\\nChina.\\nBut\\nif\\na\\ncompany\\ndoes\\nnot\\nfocus\\nenough\\non\\nESG,\\nit\\nrisks \\nfalling\\nbehind\\nin\\nthe\\nmarket,\\nlosing\\nthe\\nsupport\\nof \\nemployees,\\ncustomers,\\nand\\ninvestors,\\nand\\npotentially\\neven \\nlosing\\nthe\\nlicense\\nto\\ntrade\\nin\\nmore\\nstringent\\nregulatory/ESG \\nenvironments,\\nlike\\nthe\\nU.S.\\nand\\nEurope.\\nFinding\\nthe\\ncorrect \\nbalance\\nwill\\nbe\\nhard\\nbecause\\nthe\\nparameters\\nwill\\nvary \\nacross\\nsectors\\nand\\ngeographies,\\nas\\nwell\\nas\\nover\\ntime.\\nWhat \\nis\\nessential\\nis\\nthat\\nboards\\nconsistently\\nreview\\ntheir\\nfocus\\non \\nESG\\nand\\njudge\\nwhether\\nthey\\nare\\nmanaging\\nthe\\ntrade-offs.', start_char_idx=None, end_char_idx=None, text_template='{metadata_str}\\n\\n{content}', metadata_template='{key}: {value}', metadata_seperator='\\n'),\n",
              " Document(id_='19974a94-57a9-4549-9c5a-5279547f63d8', embedding=None, metadata={'page_label': '2', 'file_name': 'ESG.pdf'}, excluded_embed_metadata_keys=[], excluded_llm_metadata_keys=[], relationships={}, hash='5db351a4da7588b4c6e51454ddc85d3fbd53f8bf3b151f316a746787da6920fd', text='2\\nDoes\\ndriving\\nthe\\nESG \\nagenda\\nmean\\nsacrificing \\ncompany\\nreturns?\\nBusiness\\nleaders\\nshould\\nbe\\naware\\nof\\nthe\\nrisk\\nthat\\na\\ndogged \\nESG\\nfocus\\ncould\\nbe\\nseen\\nby\\nsome\\nshareholders\\nas\\nharmful \\nor\\ncompromising\\nfinancial\\nshareholder\\nreturns.\\nThat\\nsaid, \\nESG\\nadvocates\\nsuggest\\nthat\\nreturns\\nfrom\\nESG\\ninvestment \\nfunds\\nare\\nnot\\nlower\\nthan\\nthose\\nof\\ntraditional\\nequity\\nfunds.\\nIn \\nfact,\\nreturns\\ncan\\nbe\\nhigher\\nthan\\non\\nbroad\\nbase\\nindices.Over \\nthe\\n18\\nmonths\\nfrom\\nNovember\\n2019-March\\n2021,\\nthe\\nMSCI \\nWorld\\nESG\\nLeaders\\nindex\\noutperformed\\nthe\\ntraditional \\nMSCI\\nWorld\\nby\\n+1.84%.\\nAt\\nthe\\nsame\\ntime\\nthe\\nJP\\nMorgan \\nESG\\nEMBI\\nGlobal\\nDiversified\\nindex\\noutperformed\\nthe \\nequivalent\\nnon-ESG\\nindex\\nby\\n+1.94%.\\nHowever,\\nit’s \\nimportant\\nto\\nnote\\nthat\\nbig\\ntech\\ncompanies\\nare\\ncore\\nholdings \\nto\\nmany\\nESG\\nfunds\\n—\\nand\\nthat\\nthe\\ntechnology\\nsector\\nhas \\ndominated\\nstrong\\nequity\\nindex\\nreturns\\nin\\nrecent\\nyears.\\nThis \\nraises\\nthe\\nquestion\\nof\\nwhether\\nthe\\nESG\\nagenda\\nitself\\nyields \\nreturns,\\nor\\nif\\nit’s\\nsimply\\nthat\\nthe\\nhighest\\nyielding\\nsector\\nalso \\nhas\\nstrong\\nESG\\nscores.\\nEven\\nso,\\ninvestors\\nshould\\nnot \\ndiscount\\nthe\\nvalue\\nthat\\nan\\nactive\\nESG\\nagenda\\ngrants \\ncompanies\\nin\\nterms\\nof\\nthe\\nlicense\\nto\\ntrade\\n—\\nthe\\nright\\nto \\noperate\\na\\nbusiness,\\nwhich\\nis\\ngranted\\nby\\ngovernments\\nand \\nregulators.\\n3\\nHow\\nare\\nyou\\nnavigating \\nESG\\ntrade-offs?\\nThe\\nshift\\nfrom\\na\\nworld\\nof\\nfinancial\\nshareholder\\nprimacy\\nto \\nbroader\\nstakeholder\\ncapitalism\\nencompasses\\na\\nfar-reaching \\nagenda\\n—\\nincluding\\nclimate\\nchange,\\nworker\\nadvocacy,\\nthe \\npursuit\\nof\\ngender\\nand\\nracial\\ndiversity,\\nvoter\\nrights,\\nand \\nmore.\\nAll\\nthese\\naspects\\nof\\nESG\\nare\\nbeset\\nwith\\ntrade-offs \\nthat\\nbusiness\\nleaders\\nmust\\nnavigate.\\nFor\\nexample,\\nenergy\\ncompany\\nboards\\nhave\\nto\\nweigh \\nurgently\\ntackling\\nclimate\\nchange\\nagainst\\nmeeting\\nthe\\nneeds \\nof\\nthe\\nover\\n1\\nbillion\\npeople\\nwho\\ndo\\nnot\\nhave\\naccess\\nto \\nreliable\\nand\\naffordable\\nenergy.\\nIn\\naddition,\\nbusiness\\nleaders \\nare\\nforced\\nto\\nbalance\\nthe\\nneeds\\nfor\\nclimate\\naction\\nand \\ndecarbonization\\nwith\\nthe\\nrisk\\nthat\\ncurbing\\nsupplies\\nof \\nconventional\\nenergy\\nsources\\ncould\\ndrive\\nup\\ninflation\\nand \\nthe\\ncost\\nof\\nliving\\nthrough\\nhigher\\ncosts\\nof\\npower,\\nheating, \\nand\\nelectricity\\nbills.\\n4\\nHow\\ndoes\\nESG\\nchange \\ndue\\ndiligence?\\nTraditionally,\\nevaluations\\nof\\na\\ncompany’s\\nassets\\n(such\\nas\\nin \\nassessing\\nthe\\nvalue\\nof\\nM&A\\ntransactions)\\ntend\\nto\\nfocus\\non \\na\\nset\\nof\\nconventional\\nfactors.\\nThese\\ninclude\\nbusiness \\nsynergies,\\ntax\\nconsequences,\\nand\\nanti-trust\\nconsiderations. \\nToday,\\nthorough\\ndue\\ndiligence\\nefforts\\nalso\\nrequire\\nan\\naudit \\nof\\nhow\\nan\\nacquirer\\nor\\nacquiree\\nmeets\\ncertain\\nESG', start_char_idx=None, end_char_idx=None, text_template='{metadata_str}\\n\\n{content}', metadata_template='{key}: {value}', metadata_seperator='\\n'),\n",
              " Document(id_='4b088a71-4b22-422a-8630-dc3481e29c53', embedding=None, metadata={'page_label': '3', 'file_name': 'ESG.pdf'}, excluded_embed_metadata_keys=[], excluded_llm_metadata_keys=[], relationships={}, hash='4762a6db2ed5485b03965e486f9a73e4b09c9a62a532fb341b717b463c92daa7', text='standards.\\nESG\\naudits\\nwill\\nalso\\nmatter\\nwhen\\nraising\\ncapital; \\ndebt-rating\\nagencies\\nand\\ninvestors\\nrequire\\nthis\\nadditional \\ndata,\\ntoo.\\nAreas\\nthat\\ncould\\ncome\\ninto\\nESG\\ndue\\ndiligence\\ninclude \\nadapting\\nproducts\\nand\\nservices\\nto\\nclimate-friendly\\nmaterials \\nand\\nprocesses,\\nevaluating\\ndiversity\\nand\\nwider\\nemployment \\npractices,\\nas\\nwell\\nas\\nrevamping\\nhow\\ncompanies\\nengage \\nwith\\ncommunities.\\nCorporations\\ntoday\\nmust\\nbe\\nready\\nto \\ndemonstrate\\nthat\\nthey\\nare\\nESG\\ncompliant\\n—\\nwith\\nactions \\nand\\nresults.\\n5\\nShould\\nyou\\nbecome\\na \\npublic\\nbenefit \\ncorporation?\\nTraditionally,\\nmany\\nU.S.\\ncorporations\\nare\\nformed\\nlegally \\nunder\\nDelaware\\nLLC\\nstructures\\nthat\\nprioritize\\nfinancial \\nshareholders\\nover\\nenvironmental\\nand\\nsocial\\nstakeholders. \\nAlthough\\nunder\\nDelaware\\nLLC\\nstructure,\\nthe\\nBusiness \\nJudgement\\nRule\\nallows\\nboards\\nto\\ntake\\nbroader\\nstakeholder \\nconcerns\\ninto\\nconsideration,\\nthere\\nremains\\na\\npush\\nby \\ncampaigners\\nfor\\nenvironmental\\nand\\nsocial\\ncauses\\nfor \\ncompanies\\nto\\nswitch\\nto\\neither\\na\\npublic\\nbenefit\\ncorporation \\n(PBC)\\nor\\nB-corps\\nstructure.\\nBoth\\nPBC\\nor\\nB-corps\\nregistrations\\naim\\nto\\nlegally\\nenshrine \\nthe\\ninterests\\nof\\nbroader\\nstakeholders,\\nnot\\njust\\nfinancial \\nshareholders.\\nHowever,\\nPBCs\\nare\\nsigned\\nup\\nto\\na \\ngovernance\\ncode\\nthat\\nis\\nrecognized\\nin\\n37\\nstates,\\nwhereas \\nB-corps\\nare\\ncorporations\\nthat\\nare\\ncertified\\nby\\nthe\\nnon-profit \\nB-lab\\nas\\nmeeting\\nhigher\\nstandards\\nof\\naccountability, \\ntransparency,\\nand\\nsocial\\npurpose\\nthan\\ntraditional\\nlisted \\ncompanies.\\nFinancially,\\ncompanies\\nneed\\nto\\nexamine\\nthe\\nimplications\\nof \\nchanging\\ntheir\\nstatus\\nfrom\\nDelaware\\nLLC\\nto\\na\\nPBC\\nor \\nB-corp\\n—\\nfor\\nexample,\\nwhether\\nor\\nnot\\nPBCs\\nare\\nallowed\\nto \\ntrade\\non\\nvarious\\nstock\\nmarkets\\naround\\nthe\\nworld.\\nBusiness \\nleaders\\nmust\\nbe\\nalert\\nto\\nany\\nchanges\\nin\\ndecision\\nrights\\nand \\nrestrictions\\nof\\na\\nPBC\\nstructure—\\nfor\\nexample\\ndoes\\nit\\nrestrict \\nhow\\nthe\\ncompany\\nraises\\ncapital\\nor\\npays\\ndividends?\\nCan \\nvalid\\nlike-for-like\\ncomparisons\\ncan\\nbe\\nmade\\nwith\\nDelaware \\nregistered\\npeers\\nwhen\\nreviewing\\nperformance?\\n6\\nHow\\nshould\\ncorporations \\naddress\\nsocietal \\nconcerns\\nsuch\\nas\\nracial \\nequity?\\nBusiness\\nleaders\\nmust\\nbe\\nguided\\nby\\na\\nframework\\nthat\\nis \\ntransparent\\nand\\nconsistent\\nin\\naddressing\\ncurrent\\nevents \\nthat\\nhighlight\\ninjustice.\\nRecently,\\nboards\\nhave\\nbeen \\nchallenged\\nto\\nensure\\nthat\\nthey\\nare\\nconsistent\\nin\\ndefending \\nracial\\njustice\\nacross\\nall\\nracial,\\nethnic,\\nand\\nreligious\\ngroups. \\nFor\\nexample,\\nin\\n2020,\\nwhile\\nthe\\nmurder\\nof\\nGeorge\\nFloyd \\nwas\\nmet\\nwith\\nnear\\nuniversal\\ncondemnation\\nand\\nstatements', start_char_idx=None, end_char_idx=None, text_template='{metadata_str}\\n\\n{content}', metadata_template='{key}: {value}', metadata_seperator='\\n'),\n",
              " Document(id_='f2025ac5-23a4-4c00-b850-55f2d7f019d0', embedding=None, metadata={'page_label': '4', 'file_name': 'ESG.pdf'}, excluded_embed_metadata_keys=[], excluded_llm_metadata_keys=[], relationships={}, hash='f9ed40b6d448b4c3858eb2e625af6eed501bf4259180d3a6b0dc36e70f91f22d', text='of\\nintent\\nto\\nredress\\ninequality\\nin\\nsupport\\nof\\nBlack\\nLives \\nMatter,\\nacts\\nof\\nviolence\\nagainst\\nAsians\\nwere\\nmet\\nwith\\na\\nless \\nconsistent\\nand\\nassertive\\ncorporate\\nresponse,\\nas\\nShalene \\nGupta\\nhighlighted\\nin\\nHBR.\\nFor\\nthe\\nsake\\nof\\nemployees,\\ncustomers,\\nand\\nclients, \\ncorporations\\nmust\\nbe\\nmore\\ntransparent\\non\\nhow\\nbusiness \\nleaders\\nwill\\nhandle\\nthese\\nconcerns,\\nand\\nbroader\\nESG \\nissues,\\nas\\nthey\\nemerge.\\nAn\\ninconsistent\\napproach\\nrisks \\nfostering\\ndivision\\namong\\nemployees\\nand\\ncreating\\na\\nculture \\nof\\n“us\\nversus\\nthem.”\\n7\\nHow\\ndo\\nyou\\ndevelop\\na \\nglobal\\napproach\\nto\\nESG?\\nA\\nmore\\ncomprehensive\\nESG\\napproach\\nmust\\nbe\\ninclusive\\nof \\ndifferent\\ncountries\\nand\\ncultures.\\nFor\\nexample,\\nWestern \\nworkers\\nadvocating\\nfor\\nwork-life\\nbalance,\\nnotably\\nin\\nthe \\ntechnology\\nsector,\\nsit\\nin\\nstark\\ncontrast\\nto\\nsome\\nChinese \\nemployees\\nwilling\\nto\\nwork\\n9-9-6\\n—\\nthat\\nis,\\nfrom\\n9\\nAM\\nto\\n9 \\nPM,\\n6\\ndays\\na\\nweek.\\nPolitical\\nand\\nbusiness\\nleaders\\nmust \\nweigh\\nthe\\nrisks,\\nnot\\nonly\\nof\\nChinese\\nvalues\\nbeing\\nrejected \\nby\\nemployees\\nand\\ncustomers\\nin\\nthe\\nWest,\\nbut\\nalso\\nof \\nwestern\\nliberal\\nattitudes\\nbeing\\nrejected\\nby\\nworkers\\nand \\ncustomers\\nin\\nChina.\\nLikewise,\\nin\\nthe\\ncase\\nof\\nthe\\nenvironment\\nand\\nclimate \\nchange,\\nit\\nis\\nimpossible\\nto\\nmake\\nmeaningful\\nprogress \\nglobally\\nwithout\\nhaving\\nChina\\nand\\nIndia\\non\\nboard\\n—\\neven\\nif \\ntheir\\ndesired\\nspeed\\nof\\nchange\\nmight\\ndiffer\\nmaterially\\nfrom \\nthose\\nin\\nthe\\nWestern\\nworld.\\n8\\nHow\\ndo\\nyou\\nbuild\\nan\\nESG \\nframework\\nthat\\nis \\nfuture-proofed\\nfor \\ntomorrow’s\\neconomic \\nrealities?\\nBusiness\\nleaders\\nneed\\nto\\nfocus\\non\\nESG\\ndesign\\nand\\na \\nsystem\\nof\\nthinking\\nthat\\napplies\\nto\\nhow\\nthe\\neconomy\\nwill\\nbe \\nshaped\\nin\\nthe\\nfuture\\n—\\nnot\\njust\\nhow\\nit\\nis\\nstructured\\ntoday.\\nFor\\nexample,\\nmany\\nretail\\ncompanies\\npoint\\nto\\nstrong \\ndiversity\\ndata\\nwithin\\ntheir\\nstaff\\ntoday.\\nBut\\nthe\\nreality\\nis\\nthat\\na \\nlarge\\nproportion\\nof\\nthe\\nworkforce\\nare\\nless-skilled\\nworkers \\nwho\\nare\\nmost\\nvulnerable\\nto\\nlosing\\ntheir\\njobs\\nto\\nincreased \\nautomation\\nand\\ndigitization,\\nsuch\\nas\\nthe\\nprospect\\nof \\ndriverless\\ncars.\\nAccording\\nto\\nthe\\nWorld\\nEconomic\\nForum, \\n85\\nmillion\\njobs\\nwill\\ndisappear\\ndue\\nto\\nautomation\\nby\\n2025.\\nWhile\\n97\\nmillion\\ntech-driven\\njobs\\nwill\\nbe\\ncreated,\\nmany\\nof \\nthem\\nwill\\nrequire\\nhigher\\nlevels\\nof\\nskills\\nand\\nqualifications. \\nSchools\\nand\\neducation\\npublic\\npolicy\\nmust\\nensure\\nthat\\nnew \\ngenerations\\nof\\nworkers\\nare\\nequipped\\nwith\\nthe\\nknowledge\\nto \\nthrive\\nin\\nthe\\nworkplaces\\nof\\nthe\\nfuture.\\nBut\\nthere\\nis\\nalso\\nan \\nonus\\non\\ncompanies\\nto\\ntake\\nactive\\nsteps\\nto\\nreskill\\ntheir \\nexisting\\nworkforce\\n—\\nand\\nspecifically\\nto\\naid\\nits\\nmost', start_char_idx=None, end_char_idx=None, text_template='{metadata_str}\\n\\n{content}', metadata_template='{key}: {value}', metadata_seperator='\\n'),\n",
              " Document(id_='42da57bc-5e52-416d-8af0-decfa9146d50', embedding=None, metadata={'page_label': '5', 'file_name': 'ESG.pdf'}, excluded_embed_metadata_keys=[], excluded_llm_metadata_keys=[], relationships={}, hash='a54ef34adb04e3ad316a7fc062f1e3ff0695dc78c48a9d36115b9ec0db274d84', text='vulnerable\\nmembers\\n—\\nto\\nbe\\nable\\nto\\ntransition\\ninto\\nnew \\nroles.\\nThis\\ncan\\nbe\\nachieved\\nthrough\\nwell-developed\\ntrainee \\nprograms,\\napprenticeships,\\nand\\non-going\\ninternships,\\nsuch \\nas\\nin\\ndifferent\\nareas\\nof\\ncoding.\\nInaction\\nwill\\nlead\\nto\\ngreater \\nnet\\nunemployment\\nof\\nprecisely\\nthe\\ndiverse\\nset\\nof \\nemployees\\nthis\\nESG\\nstrategy\\nis\\nhoping\\nto\\nprotect.\\n9\\nHow\\ndo\\nyou\\nvet\\ncompany \\nperformance\\nof\\nESG?\\nBusiness\\nleaders\\nmust\\ndecide\\nhow\\ntheir\\nESG\\nresults\\nwill\\nbe \\nvetted\\nfor\\ncompliance.\\nCompanies\\nalready\\nuse\\nindependent \\nexternal\\nauditors\\nfor\\nfinancial,\\noperational,\\ncyber,\\nand \\nworker\\naudits.\\nThe\\nquestion\\nis\\nwhether\\nESG\\nstandards\\nwill \\nneed\\nto\\nbe\\nassessed\\nand\\nmonitored\\nby\\nindependent \\nthird-party\\naccounting\\nor\\nlaw\\nfirms,\\nor\\nwhether\\nESG\\nwill\\nbe \\noverseen\\nby\\na\\nglobal\\nbody\\nor\\nby\\nnational\\nregulatory \\norganizations.\\nFor\\nnow,\\nalthough\\nindependent\\nfirms\\nand\\nregulatory\\nbodies \\ncontinue\\ntheir\\nefforts\\nto\\ndesign\\nmetrics\\nand\\nstandards,\\nESG \\nbenchmarking\\nremains\\nhighly\\nfragmented.\\nTherefore,\\nthe \\nchallenge\\nfor\\nboards\\nis\\nto\\nassess\\nwhich\\nmetrics\\nto\\nchoose \\nand\\nuse.\\nThe\\ntrend\\nis\\nto\\nmake\\ncompanies\\naccountable\\nto\\nexternal \\nbodies:\\nnot\\nonly\\nregulators,\\nbut\\nalso\\nindustry\\nassociations \\nand\\ntrade\\nbodies.\\nThe\\nSEC,\\nfor\\nexample,\\nis\\nseeking\\ngreater \\nclarity\\non\\nthe\\nsustainable\\ncredentials\\nof\\nESG-labeled \\ninvestment\\nfunds.\\nBut\\nsimply\\nobtaining\\nclarity\\non\\nhow\\nmany \\ndifferent\\norganizations\\ndefine\\nESG\\nis\\nnot\\nenough.\\nFor\\nthe \\nmarket\\nto\\nfunction\\nproperly,\\nan\\nopen\\naudit\\nsystem\\nrequires \\nharmonized\\nrules\\nfollowed\\nby\\nall.\\nOne\\nnotable\\nstep\\ncame\\nin\\n2021,\\nwhen\\nthe\\nInternational \\nCapital\\nMarkets\\nAssociation\\n(ICMA)\\nlaunched\\nharmonized \\nprinciples\\nfor\\ngreen\\nbonds,\\nused\\nby\\ncorporations\\nto\\nfinance \\nenvironmentally\\nsustainable\\nprojects.\\n10\\nHow\\nshould\\ncorporations \\nnavigate\\nthe \\never-changing\\nlandscape \\nof\\nESG?\\nAs\\ncompanies\\ndevise\\nmetrics\\nto\\ntrack\\nESG\\nprogress,\\nthey \\nmust\\nbe\\nable\\nto\\ncompare\\nperformance\\nacross\\ntime,\\npeers, \\nother\\nindustries,\\nand\\nagainst\\nevolving\\nregulatory\\nstandards. \\nAs\\nthey\\ndo\\nso,\\nthey\\nneed\\nto\\nanticipate\\nwhere\\nregulation\\non \\nall\\naspects\\nof\\nESG\\nwill\\nland.\\nTherefore,\\nbusiness\\nleaders \\nmust\\nmaintain\\na\\ndialogue\\nwith\\nregulators\\nand\\npolicymakers, \\nand\\ncompanies\\nshould\\nlook\\nto\\ncooperate\\nand\\ncoordinate\\non \\nbest\\npractices\\nwith\\ntheir\\nindustry\\npeers. \\nGlobal\\ncorporations\\nmust\\napproach\\nESG\\nin\\na\\nway\\nthat\\nis \\ntransparent,\\nconsistent,\\nflexible,\\ninnovative,\\nsustainable, \\nsensitive\\nto\\ncultural\\ndifferences,\\ndynamic,\\nand \\nfuture-proofed.\\nFurthermore,\\ncorporations\\nshould\\nfocus\\nnot', start_char_idx=None, end_char_idx=None, text_template='{metadata_str}\\n\\n{content}', metadata_template='{key}: {value}', metadata_seperator='\\n'),\n",
              " Document(id_='33997407-74d1-4f86-96da-1ccb7afc2e83', embedding=None, metadata={'page_label': '6', 'file_name': 'ESG.pdf'}, excluded_embed_metadata_keys=[], excluded_llm_metadata_keys=[], relationships={}, hash='e954e9c0c05b3d7548c905fd92f1e9e02a73675c54e699eff5ea8f084b9ec8c6', text='only\\non\\nmitigating\\nthe\\nrisks\\nof\\nESG,\\nbut\\nalso\\non\\nthe \\nopportunities\\nit\\npresents\\nto\\ncontinue\\nto\\nsupport\\nhuman \\nprogress.', start_char_idx=None, end_char_idx=None, text_template='{metadata_str}\\n\\n{content}', metadata_template='{key}: {value}', metadata_seperator='\\n')]"
            ]
          },
          "metadata": {},
          "execution_count": 7
        }
      ]
    },
    {
      "cell_type": "code",
      "source": [
        "\n",
        "from llama_index.prompts.prompts import SimpleInputPrompt\n",
        "\n",
        "\n",
        "system_prompt = \"You are a Q&A assistant. Your goal is to answer questions as accurately as possible based on the instructions and context provided.\"\n",
        "\n",
        "\n",
        "\n",
        "# This will wrap the default prompts that are internal to llama-index\n",
        "query_wrapper_prompt = SimpleInputPrompt(\"<|USER|>{query_str}<|ASSISTANT|>\")"
      ],
      "metadata": {
        "id": "KYmJUF8TXc-y"
      },
      "execution_count": null,
      "outputs": []
    },
    {
      "cell_type": "code",
      "source": [
        "!huggingface-cli login"
      ],
      "metadata": {
        "colab": {
          "base_uri": "https://localhost:8080/"
        },
        "id": "r1BGUftGYp71",
        "outputId": "5ee5ff87-21d6-4d8b-cc40-f520958f88f7"
      },
      "execution_count": null,
      "outputs": [
        {
          "output_type": "stream",
          "name": "stdout",
          "text": [
            "\n",
            "    _|    _|  _|    _|    _|_|_|    _|_|_|  _|_|_|  _|      _|    _|_|_|      _|_|_|_|    _|_|      _|_|_|  _|_|_|_|\n",
            "    _|    _|  _|    _|  _|        _|          _|    _|_|    _|  _|            _|        _|    _|  _|        _|\n",
            "    _|_|_|_|  _|    _|  _|  _|_|  _|  _|_|    _|    _|  _|  _|  _|  _|_|      _|_|_|    _|_|_|_|  _|        _|_|_|\n",
            "    _|    _|  _|    _|  _|    _|  _|    _|    _|    _|    _|_|  _|    _|      _|        _|    _|  _|        _|\n",
            "    _|    _|    _|_|      _|_|_|    _|_|_|  _|_|_|  _|      _|    _|_|_|      _|        _|    _|    _|_|_|  _|_|_|_|\n",
            "    \n",
            "    A token is already saved on your machine. Run `huggingface-cli whoami` to get more information or `huggingface-cli logout` if you want to log out.\n",
            "    Setting a new token will erase the existing one.\n",
            "    To login, `huggingface_hub` requires a token generated from https://huggingface.co/settings/tokens .\n",
            "Token: "
          ]
        }
      ]
    },
    {
      "cell_type": "code",
      "source": [
        "import torch\n",
        "\n",
        "llm = HuggingFaceLLM(\n",
        "    context_window=4096,\n",
        "    max_new_tokens=256,\n",
        "    generate_kwargs={\"temperature\": 0.0, \"do_sample\": False},\n",
        "    system_prompt=system_prompt,\n",
        "    query_wrapper_prompt=query_wrapper_prompt,\n",
        "    tokenizer_name=\"meta-llama/Llama-2-7b-chat-hf\",\n",
        "    model_name=\"meta-llama/Llama-2-7b-chat-hf\",\n",
        "    device_map=\"auto\",\n",
        "    # uncomment this if using CUDA to reduce memory usage\n",
        "    model_kwargs={\"torch_dtype\": torch.float16 , \"load_in_8bit\":True}\n",
        ")"
      ],
      "metadata": {
        "id": "BhyzesSOYuRf"
      },
      "execution_count": null,
      "outputs": []
    },
    {
      "cell_type": "code",
      "source": [
        "from langchain.embeddings.huggingface import HuggingFaceEmbeddings\n",
        "from llama_index import LangchainEmbedding, ServiceContext\n",
        "\n",
        "embed_model = LangchainEmbedding(\n",
        "  HuggingFaceEmbeddings(model_name=\"sentence-transformers/all-mpnet-base-v2\")\n",
        ")\n"
      ],
      "metadata": {
        "id": "6mT0mMqtctGl"
      },
      "execution_count": null,
      "outputs": []
    },
    {
      "cell_type": "code",
      "source": [
        "service_context = ServiceContext.from_defaults(\n",
        "    chunk_size=1024,\n",
        "    llm=llm,\n",
        "    embed_model=embed_model\n",
        ")"
      ],
      "metadata": {
        "id": "EqUPeKH6crpM"
      },
      "execution_count": null,
      "outputs": []
    },
    {
      "cell_type": "code",
      "source": [
        "index = VectorStoreIndex.from_documents(documents, service_context=service_context)"
      ],
      "metadata": {
        "id": "bwGjWnoNai9y"
      },
      "execution_count": null,
      "outputs": []
    },
    {
      "cell_type": "code",
      "source": [
        "query_engine = index.as_query_engine()\n",
        "response = query_engine.query(\"what is tcs ion?\")"
      ],
      "metadata": {
        "id": "P738v53ganSZ"
      },
      "execution_count": null,
      "outputs": []
    },
    {
      "cell_type": "code",
      "source": [
        "print(response)"
      ],
      "metadata": {
        "id": "L1-T4aVNdSn9"
      },
      "execution_count": null,
      "outputs": []
    },
    {
      "cell_type": "code",
      "source": [
        "while True:\n",
        "  query=input()\n",
        "  response = query_engine.query(query)\n",
        "  print(response)"
      ],
      "metadata": {
        "id": "Gh3JY0D6hAiB"
      },
      "execution_count": null,
      "outputs": []
    },
    {
      "cell_type": "code",
      "source": [],
      "metadata": {
        "id": "jbikmS8ulJ91"
      },
      "execution_count": null,
      "outputs": []
    }
  ]
}